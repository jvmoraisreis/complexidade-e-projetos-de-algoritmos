{
  "cells": [
    {
      "cell_type": "markdown",
      "metadata": {
        "id": "XAdlKnDBj5uB"
      },
      "source": [
        "# EFC1 GCC253 - Complexidade e Projeto de Algoritmos - 5 pontos.\n",
        "\n",
        "\n",
        "> **Prof.: Douglas H. S. Abreu**\n",
        "\n",
        "\n",
        "**Aluno**: João Victor de Morais Reis e Victor Huggo Moraes Lima\n",
        "\n",
        "**Matricula:** 201810599 e 201810285\n",
        "\n",
        "**Turma**: 10A\n",
        "\n",
        "Link do repositório GitHub: \n",
        "\n",
        "● O trabalho deve ser feito em grupos de no máximo 4 componentes (Apenas um deve enviar a atividade no Campus Virtual)\n",
        "\n",
        "● Trabalhos entregues após a data limite não serão aceitos\n",
        "\n",
        "● Data limite de entrega: 20 de Novembro de 2022 : 23h55m\n",
        "\n",
        "● Enviar o trabalho para o campus virtual, do seguinte modo: link do repositório GitHub com acesso ao Notebook.\n",
        "\n",
        "● O trabalho deve ser desenvolvido no modelo Notebook utilizando preferencialmente a linguagem Python"
      ]
    },
    {
      "cell_type": "markdown",
      "metadata": {
        "id": "J3d6JlRUxREN"
      },
      "source": [
        "# Importações e Variáveis globais"
      ]
    },
    {
      "cell_type": "code",
      "execution_count": null,
      "metadata": {
        "id": "Ur1DVGQAxac4"
      },
      "outputs": [],
      "source": [
        "import numpy as np\n",
        "\n",
        "global_1=0"
      ]
    },
    {
      "cell_type": "markdown",
      "metadata": {
        "id": "kPNpzNYwkKAO"
      },
      "source": [
        "# Funções de Ordenação\n",
        "\n",
        "> Utilize este espaço para definir as funções de ordenação.\n",
        "\n"
      ]
    },
    {
      "cell_type": "markdown",
      "metadata": {
        "id": "nEw1UEsmoKMg"
      },
      "source": [
        "##  Insertion Sort\n"
      ]
    },
    {
      "cell_type": "code",
      "execution_count": 19,
      "metadata": {
        "id": "kbOrhdB-j_px"
      },
      "outputs": [],
      "source": [
        "def insertionSort(A):\n",
        "  for j in range(1, len(A)):\n",
        "    chave = A[j]\n",
        "    i = j - 1\n",
        "\n",
        "    while (i >= 0 and A[i] > chave):\n",
        "      A[i+1] = A[i]\n",
        "      i = i-1\n",
        "    A[i+1] = chave"
      ]
    },
    {
      "cell_type": "markdown",
      "metadata": {
        "id": "9a-wJwU-wtmQ"
      },
      "source": [
        "##  Merge Sort\n"
      ]
    },
    {
      "cell_type": "code",
      "execution_count": 14,
      "metadata": {
        "id": "8cgIJ_4EwbPN"
      },
      "outputs": [],
      "source": [
        "def merge(A, l, m, r):\n",
        "\tn1 = m - l + 1\n",
        "\tn2 = r - m\n",
        "\n",
        "\tL = [0] * (n1)\n",
        "\tR = [0] * (n2)\n",
        "\n",
        "\tfor i in range(0, n1):\n",
        "\t\tL[i] = A[l + i]\n",
        "\n",
        "\tfor j in range(0, n2):\n",
        "\t\tR[j] = A[m + 1 + j]\n",
        "\n",
        "\ti = 0\t \n",
        "\tj = 0\t \n",
        "\tk = l\t \n",
        "\n",
        "\twhile i < n1 and j < n2:\n",
        "\t\tif L[i] <= R[j]:\n",
        "\t\t\tA[k] = L[i]\n",
        "\t\t\ti += 1\n",
        "\t\telse:\n",
        "\t\t\tA[k] = R[j]\n",
        "\t\t\tj += 1\n",
        "\t\tk += 1\n",
        "\n",
        "\twhile i < n1:\n",
        "\t\tA[k] = L[i]\n",
        "\t\ti += 1\n",
        "\t\tk += 1\n",
        "\n",
        "\twhile j < n2:\n",
        "\t\tA[k] = R[j]\n",
        "\t\tj += 1\n",
        "\t\tk += 1\n",
        "\n",
        "\n",
        "def mergeSort(A, l, r):\n",
        "\tif l < r:\n",
        "\n",
        "\t\tm = l+(r-l)//2\n",
        "\n",
        "\t\tmergeSort(A, l, m)\n",
        "\t\tmergeSort(A, m+1, r)\n",
        "\t\tmerge(A, l, m, r)\n"
      ]
    },
    {
      "cell_type": "markdown",
      "metadata": {
        "id": "8dWpeYUvw-wU"
      },
      "source": [
        "##  Selection Sort\n"
      ]
    },
    {
      "cell_type": "code",
      "execution_count": 11,
      "metadata": {
        "id": "vNgUDShawygu"
      },
      "outputs": [],
      "source": [
        "def selectionSort(array, size):\n",
        "    \n",
        "    for ind in range(size):\n",
        "        min_index = ind\n",
        " \n",
        "        for j in range(ind + 1, size):\n",
        "            \n",
        "            if array[j] < array[min_index]:\n",
        "                min_index = j\n",
        "         \n",
        "        (array[ind], array[min_index]) = (array[min_index], array[ind])"
      ]
    },
    {
      "cell_type": "markdown",
      "metadata": {
        "id": "zNI1kX0yyDrs"
      },
      "source": [
        "##  Bubble Sort\n"
      ]
    },
    {
      "cell_type": "code",
      "execution_count": 9,
      "metadata": {
        "id": "6X_zk1yWxMQS"
      },
      "outputs": [],
      "source": [
        "def bubbleSort(A):\n",
        "    \n",
        "  for i in range(len(A)):\n",
        "\n",
        "    for j in range(0, len(A) - i - 1):\n",
        "\n",
        "      if A[j] > A[j + 1]:\n",
        "\n",
        "        temp = A[j]\n",
        "        A[j] = A[j+1]\n",
        "        A[j+1] = temp"
      ]
    },
    {
      "cell_type": "markdown",
      "metadata": {
        "id": "vk4vOTkKyLB-"
      },
      "source": [
        "## Heap Sort"
      ]
    },
    {
      "cell_type": "code",
      "execution_count": 22,
      "metadata": {
        "id": "39a7xXzLyH9g"
      },
      "outputs": [],
      "source": [
        "def heapify(A, N, i):\n",
        "    largest = i \n",
        "    l = 2 * i + 1     \n",
        "    r = 2 * i + 2     \n",
        " \n",
        "    if l < N and A[largest] < A[l]:\n",
        "        largest = l\n",
        " \n",
        "    \n",
        "    if r < N and A[largest] < A[r]:\n",
        "        largest = r\n",
        " \n",
        "    if largest != i:\n",
        "        A[i], A[largest] = A[largest], A[i]  \n",
        " \n",
        "        heapify(A, N, largest)\n",
        " \n",
        "def heapSort(A):\n",
        "    N = len(A)\n",
        " \n",
        "    for i in range(N//2 - 1, -1, -1):\n",
        "        heapify(A, N, i)\n",
        "    \n",
        "    for i in range(N-1, 0, -1):\n",
        "        A[i], A[0] = A[0], A[i]  \n",
        "        heapify(A, i, 0)"
      ]
    },
    {
      "cell_type": "markdown",
      "metadata": {
        "id": "fFiGho5CyU3t"
      },
      "source": [
        "## Quick Sort com pivo sendo o ultimo elemento do arranjo\n",
        "\n",
        "> pivo = *A[A-comprimento]*"
      ]
    },
    {
      "cell_type": "code",
      "execution_count": 1,
      "metadata": {
        "id": "1Ie_N5CRyKY7"
      },
      "outputs": [],
      "source": [
        "def partition(array, low, high):\n",
        "\n",
        "  # Define o ultimo elemento como pivô\n",
        "  pivo = array[high]\n",
        "\n",
        "  # ponteiro para o maior elemento \n",
        "  i = low - 1\n",
        "\n",
        "  # passa por todos elementos comparando cada um com o pivô\n",
        "  for j in range(low, high):\n",
        "    if array[j] <= pivo:\n",
        "      # se um elemento menor que o pivô for encontrado\n",
        "      # ele é trocado pelo maior elemento apontado por i\n",
        "      i = i + 1\n",
        "\n",
        "      # trocando o elemento em i com o elemento em j \n",
        "      (array[i], array[j]) = (array[j], array[i])\n",
        "\n",
        "  # trocando o pivo com o o maior elemento apontado por i  \n",
        "  (array[i + 1], array[high]) = (array[high], array[i + 1])\n",
        "\n",
        "  # retorna a posição de onde a partição é feita\n",
        "  return i + 1\n",
        "\n",
        "def quickSort(array, low, high):\n",
        "  if low < high:\n",
        "\n",
        "    # encontra o elemento pivô de maneira que\n",
        "    # elementos menores que o pivo estão à esquerda \n",
        "    # elementos maiores que o pivo estã à direita\n",
        "    pi = partition(array, low, high)\n",
        "\n",
        "    # chamada recursiva na esquerda do pivo\n",
        "    quickSort(array, low, pi - 1)\n",
        "\n",
        "    # chamada recursiva na direita do pico \n",
        "    quickSort(array, pi + 1, high)"
      ]
    },
    {
      "cell_type": "markdown",
      "metadata": {
        "id": "VomdAnCrzEv1"
      },
      "source": [
        "# Questões"
      ]
    },
    {
      "cell_type": "markdown",
      "metadata": {
        "id": "3QKV979kzItD"
      },
      "source": [
        "\n",
        "\n",
        "1.   Escolha pelo menos 3 arranjos. Ex: ***A[5,...,1000,...,100]*** e mostre o funcionamento dos Algoritmos realizando a ordenação.\n",
        "\n",
        "\n",
        "\n"
      ]
    },
    {
      "cell_type": "code",
      "execution_count": 25,
      "metadata": {
        "colab": {
          "base_uri": "https://localhost:8080/"
        },
        "id": "nBfs279_1Vko",
        "outputId": "f550142b-edb1-49bf-f656-9eb405b0e3c9"
      },
      "outputs": [
        {
          "output_type": "stream",
          "name": "stdout",
          "text": [
            "Elementos ordenados pelo QuickSort :  \n",
            " [0, 3, 5, 9, 10, 19, 20, 25] \n",
            " [10, 20, 30, 40] \n",
            " [1, 10, 25, 100, 200, 300] \n",
            "\n",
            "Elementos ordenados pelo BubbleSort :  \n",
            " [0, 3, 5, 9, 10, 19, 20, 25] \n",
            " [10, 20, 30, 40] \n",
            " [1, 10, 25, 100, 200, 300] \n",
            "\n",
            "Elementos ordenados pelo SelectionSort :  \n",
            " [0, 3, 5, 9, 10, 19, 20, 25] \n",
            " [10, 20, 30, 40] \n",
            " [1, 10, 25, 100, 200, 300] \n",
            "\n",
            "Elementos ordenados pelo MergeSort :  \n",
            " [0, 3, 5, 9, 10, 19, 20, 25] \n",
            " [10, 20, 30, 40] \n",
            " [1, 10, 25, 100, 200, 300] \n",
            "\n",
            "Elementos ordenados pelo InsertionSort :  \n",
            " [0, 3, 5, 9, 10, 19, 20, 25] \n",
            " [10, 20, 30, 40] \n",
            " [1, 10, 25, 100, 200, 300] \n",
            "\n",
            "Elementos ordenados pelo HeapSort :  \n",
            " [0, 3, 5, 9, 10, 19, 20, 25] \n",
            " [10, 20, 30, 40] \n",
            " [1, 10, 25, 100, 200, 300] \n",
            "\n"
          ]
        }
      ],
      "source": [
        "# Arranjos escolhidos\n",
        "A1 = [5,3,10,9,20,25,19,0]\n",
        "A2 = [40,30,10,20]\n",
        "A3 = [100,200,1,25,300,10]\n",
        "\n",
        "#quickSort\n",
        "quickSort(A1, 0, ((len(A1))-1))\n",
        "quickSort(A2, 0, ((len(A2))-1))\n",
        "quickSort(A3, 0, ((len(A3))-1))\n",
        "print(\"Elementos ordenados pelo QuickSort :  \\n\",A1 , '\\n', A2, '\\n', A3, '\\n')\n",
        "\n",
        "#desordenando os arranjos\n",
        "A1 = [5,3,10,9,20,25,19,0]\n",
        "A2 = [40,30,10,20]\n",
        "A3 = [100,200,1,25,300,10]\n",
        "\n",
        "#bubbleSort\n",
        "bubbleSort(A1)\n",
        "bubbleSort(A2)\n",
        "bubbleSort(A3)\n",
        "print(\"Elementos ordenados pelo BubbleSort :  \\n\",A1 , '\\n', A2, '\\n', A3, '\\n')\n",
        "\n",
        "#desordenando os arranjos\n",
        "A1 = [5,3,10,9,20,25,19,0]\n",
        "A2 = [40,30,10,20]\n",
        "A3 = [100,200,1,25,300,10]\n",
        "\n",
        "#selectionSort\n",
        "selectionSort(A1,(len(A1)))\n",
        "selectionSort(A2,(len(A2)))\n",
        "selectionSort(A3,(len(A3)))\n",
        "print(\"Elementos ordenados pelo SelectionSort :  \\n\",A1 ,'\\n', A2, '\\n', A3, '\\n')\n",
        "\n",
        "#desordenando os arranjos\n",
        "A1 = [5,3,10,9,20,25,19,0]\n",
        "A2 = [40,30,10,20]\n",
        "A3 = [100,200,1,25,300,10]\n",
        "\n",
        "#mergeSort\n",
        "mergeSort(A1, 0, ((len(A1))-1))\n",
        "mergeSort(A2, 0, ((len(A2))-1))\n",
        "mergeSort(A3, 0, ((len(A3))-1))\n",
        "print(\"Elementos ordenados pelo MergeSort :  \\n\",A1, '\\n', A2, '\\n', A3, '\\n')\n",
        "\n",
        "#desordenando os arranjos\n",
        "A1 = [5,3,10,9,20,25,19,0]\n",
        "A2 = [40,30,10,20]\n",
        "A3 = [100,200,1,25,300,10]\n",
        "\n",
        "#insertionSort\n",
        "insertionSort(A1)\n",
        "insertionSort(A2)\n",
        "insertionSort(A3)\n",
        "print(\"Elementos ordenados pelo InsertionSort :  \\n\",A1 , '\\n', A2, '\\n', A3, '\\n')\n",
        "\n",
        "#desordenando os arranjos\n",
        "A1 = [5,3,10,9,20,25,19,0]\n",
        "A2 = [40,30,10,20]\n",
        "A3 = [100,200,1,25,300,10]\n",
        "\n",
        "#heapSort\n",
        "heapSort(A1)\n",
        "heapSort(A2)\n",
        "heapSort(A3)\n",
        "print(\"Elementos ordenados pelo HeapSort :  \\n\",A1 , '\\n', A2, '\\n', A3, '\\n')\n",
        "\n",
        "\n",
        "\n"
      ]
    }
  ],
  "metadata": {
    "colab": {
      "collapsed_sections": [
        "vk4vOTkKyLB-"
      ],
      "provenance": []
    },
    "kernelspec": {
      "display_name": "Python 3",
      "name": "python3"
    },
    "language_info": {
      "name": "python"
    }
  },
  "nbformat": 4,
  "nbformat_minor": 0
}